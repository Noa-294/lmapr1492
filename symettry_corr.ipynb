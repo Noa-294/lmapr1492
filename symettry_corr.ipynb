{
 "cells": [
  {
   "cell_type": "code",
   "execution_count": 1,
   "metadata": {},
   "outputs": [],
   "source": [
    "from jupyter_jsmol import JsmolView\n",
    "from ipywidgets import Layout, widgets, interact\n",
    "from IPython.display import display\n",
    "from jupyter_jsmol.pymatgen import quick_view\n"
   ]
  },
  {
   "cell_type": "code",
   "execution_count": 2,
   "metadata": {},
   "outputs": [
    {
     "data": {
      "application/vnd.jupyter.widget-view+json": {
       "model_id": "737a4a69d8994f46976cae247d267f1b",
       "version_major": 2,
       "version_minor": 0
      },
      "text/plain": [
       "Retrieving MaterialsDoc documents:   0%|          | 0/1 [00:00<?, ?it/s]"
      ]
     },
     "metadata": {},
     "output_type": "display_data"
    }
   ],
   "source": [
    "from pymatgen.ext.matproj import MPRester\n",
    "\n",
    "with MPRester(\"OhzYzXS8KZ2GAhVz3g1zkqH8EJz32Y7X\") as m:\n",
    "    # Récupération de la structure du cristal KScO2\n",
    "    structure = m.get_structure_by_material_id(\"mp-8188\")"
   ]
  },
  {
   "cell_type": "code",
   "execution_count": 3,
   "metadata": {},
   "outputs": [],
   "source": [
    "from pymatgen.symmetry.analyzer import SpacegroupAnalyzer\n",
    "from pymatgen.core.operations import SymmOp\n",
    "\n",
    "SA = SpacegroupAnalyzer(structure)\n",
    "\n",
    "new_s = SA.get_conventional_standard_structure()\n",
    "\n",
    "SP = SpacegroupAnalyzer(new_s)\n",
    "\n",
    "# Liste des sites atomiques\n",
    "sites = new_s.sites"
   ]
  },
  {
   "cell_type": "markdown",
   "metadata": {},
   "source": [
    "# Analyse des symétries dans KScO₂\n",
    "Nous allons appliquer trois opérations de symétrie :\n",
    "- Réflexion\n",
    "- Rotation \n",
    "- Rotation d'ordre 3 autour de (2,1,0)\n",
    "\n"
   ]
  },
  {
   "cell_type": "markdown",
   "metadata": {},
   "source": [
    "## Réflexion"
   ]
  },
  {
   "cell_type": "code",
   "execution_count": 4,
   "metadata": {},
   "outputs": [
    {
     "name": "stdout",
     "output_type": "stream",
     "text": [
      "Coordonnées de l'atome de potassium avant la réflexion : [0.66666667 0.33333333 0.33333333]\n",
      "Coordonnées de l'atome de potassium après la réflexion : [-0.33333333 -0.66666667  0.33333333]\n"
     ]
    }
   ],
   "source": [
    "sym_ref = SymmOp.from_xyz_str('-y, -x, z')\n",
    "\n",
    "# Coordonées initiales de l'atome K (site 1)\n",
    "KI = sites[1].frac_coords  \n",
    "\n",
    "# Coordonées finales de l'atome K après réflexion\n",
    "KF = sym_ref.operate(KI)\n",
    "\n",
    "print(\"Coordonnées de l'atome de potassium avant la réflexion :\", KI)\n",
    "print(\"Coordonnées de l'atome de potassium après la réflexion :\", KF)"
   ]
  },
  {
   "cell_type": "code",
   "execution_count": 5,
   "metadata": {},
   "outputs": [],
   "source": [
    "i_atom = 1\n",
    "i_symmop = 8"
   ]
  },
  {
   "cell_type": "code",
   "execution_count": 8,
   "metadata": {},
   "outputs": [
    {
     "data": {
      "application/vnd.jupyter.widget-view+json": {
       "model_id": "c594e8ef37444b16bd382f8f2423d3f4",
       "version_major": 2,
       "version_minor": 0
      },
      "text/plain": [
       "JsmolView(layout=Layout(align_self='stretch', height='400px'))"
      ]
     },
     "metadata": {},
     "output_type": "display_data"
    }
   ],
   "source": [
    "view = quick_view(structure, \"packed\", conventional = True)\n",
    "display(view)\n"
   ]
  },
  {
   "cell_type": "code",
   "execution_count": 9,
   "metadata": {},
   "outputs": [],
   "source": [
    "view.script('select potassium; color lightsalmon')\n",
    "view.script('select silicium; color gold')\n",
    "view.script('select oxygen; color palegreen')\n",
    "view.script('background white')\n",
    "view.script('draw SYMOP ' + str(i_symmop) + ' {atomno = ' + str(i_atom) + '}')"
   ]
  },
  {
   "cell_type": "markdown",
   "metadata": {},
   "source": [
    "## Description\n",
    "La réflexion est inverse la chiralité et se fait par rapport à un plan miroir. L'équation de la réflexion dans ce cas-ci est : \n",
    "$$\\begin{bmatrix} 0 & -1 & 0 \\\\ -1 & 0 & 0 \\\\ 0 & 0 & 1\\end{bmatrix} \\begin{bmatrix} x \\\\ y \\\\ z\\end{bmatrix} = \\begin{bmatrix} -y \\\\ -x \\\\ z \\end{bmatrix} $$"
   ]
  },
  {
   "cell_type": "markdown",
   "metadata": {},
   "source": [
    "## Rotation d'ordre 2 autour de a"
   ]
  },
  {
   "cell_type": "code",
   "execution_count": 10,
   "metadata": {},
   "outputs": [
    {
     "name": "stdout",
     "output_type": "stream",
     "text": [
      "Coordonnées de l'atome de silicium avant la rotation : [0.33333333 0.66666667 0.16666667]\n",
      "Coordonnées de l'atome de silicium après la rotation : [-0.33333333 -0.66666667 -0.16666667]\n"
     ]
    }
   ],
   "source": [
    "sym_rot = SymmOp.from_xyz_str('x-y, -y, -z')\n",
    "\n",
    "# Coordonées initiales de l'atome Sc \n",
    "ScI = sites[3].frac_coords\n",
    "\n",
    "# Coordonées finales de l'atome Sc après rotation\n",
    "ScF = sym_rot.operate(ScI)\n",
    "\n",
    "print(\"Coordonnées de l'atome de silicium avant la rotation :\", ScI)\n",
    "print(\"Coordonnées de l'atome de silicium après la rotation :\", ScF)"
   ]
  },
  {
   "cell_type": "code",
   "execution_count": 11,
   "metadata": {},
   "outputs": [],
   "source": [
    "i_atom = 3\n",
    "i_symmop = 9"
   ]
  },
  {
   "cell_type": "code",
   "execution_count": 12,
   "metadata": {},
   "outputs": [
    {
     "data": {
      "application/vnd.jupyter.widget-view+json": {
       "model_id": "bf5be772a75a4a79a79d21738cca594a",
       "version_major": 2,
       "version_minor": 0
      },
      "text/plain": [
       "JsmolView(layout=Layout(align_self='stretch', height='400px'))"
      ]
     },
     "metadata": {},
     "output_type": "display_data"
    }
   ],
   "source": [
    "view = quick_view(structure, \"packed\", conventional = True)\n",
    "display(view)"
   ]
  },
  {
   "cell_type": "code",
   "execution_count": 13,
   "metadata": {},
   "outputs": [],
   "source": [
    "view.script('select potassium; color lightsalmon')\n",
    "view.script('select silicium; color gold')\n",
    "view.script('select oxygen; color palegreen')\n",
    "view.script('background white')\n",
    "view.script('draw SYMOP ' + str(i_symmop) + ' {atomno = ' + str(i_atom) + '}')"
   ]
  },
  {
   "cell_type": "markdown",
   "metadata": {},
   "source": [
    "## Explication\n",
    "La rotation est une opération qui va tourner l'atome de 180 degrés autour d'un axe (dans notre cas le vecteur a). L'équation est alors ici :\n",
    "$$\\begin{bmatrix} 1 & -1 & 0 \\\\ 0 & -1 & 0 \\\\ 0 & 0 & -1\\end{bmatrix} \\begin{bmatrix} x \\\\ y \\\\ z\\end{bmatrix} = \\begin{bmatrix} x-y \\\\ -y \\\\ -z \\end{bmatrix} $$"
   ]
  },
  {
   "cell_type": "markdown",
   "metadata": {},
   "source": [
    "## Rotation d'ordre 3 autour de (2,1,0)"
   ]
  },
  {
   "cell_type": "code",
   "execution_count": 14,
   "metadata": {},
   "outputs": [
    {
     "name": "stdout",
     "output_type": "stream",
     "text": [
      "Coordonnées de l'atome d'oxygène avant la rotation : [0.66666667 0.33333333 0.10716304]\n",
      "Coordonnées de l'atome d'oxygène après la rotation : [-0.33333333  0.33333333  0.10716304]\n"
     ]
    }
   ],
   "source": [
    "sym_rotinv = SymmOp.from_xyz_str('-y, x-y, z')\n",
    "\n",
    "# Coordonées initiales de l'atome O\n",
    "OI = sites[6].frac_coords\n",
    "\n",
    "# Coordonées finales de l'atome O après rotoinversion\n",
    "OF = sym_rotinv.operate(OI)\n",
    "\n",
    "print(\"Coordonnées de l'atome d'oxygène avant la rotation :\", OI)\n",
    "print(\"Coordonnées de l'atome d'oxygène après la rotation :\", OF)"
   ]
  },
  {
   "cell_type": "code",
   "execution_count": 15,
   "metadata": {},
   "outputs": [],
   "source": [
    "i_atom = 6\n",
    "i_symmop = 3"
   ]
  },
  {
   "cell_type": "code",
   "execution_count": 16,
   "metadata": {},
   "outputs": [
    {
     "data": {
      "application/vnd.jupyter.widget-view+json": {
       "model_id": "bee1065cb9784af9bf6670588b212047",
       "version_major": 2,
       "version_minor": 0
      },
      "text/plain": [
       "JsmolView(layout=Layout(align_self='stretch', height='400px'))"
      ]
     },
     "metadata": {},
     "output_type": "display_data"
    }
   ],
   "source": [
    "view = quick_view(structure, \"packed\", conventional = True)\n",
    "display(view)"
   ]
  },
  {
   "cell_type": "code",
   "execution_count": 17,
   "metadata": {},
   "outputs": [],
   "source": [
    "view.script('select potassium; color lightsalmon')\n",
    "view.script('select silicium; color gold')\n",
    "view.script('select oxygen; color palegreen')\n",
    "view.script('background white')\n",
    "view.script('draw SYMOP ' + str(i_symmop) + ' {atomno = ' + str(i_atom) + '}')"
   ]
  },
  {
   "cell_type": "markdown",
   "metadata": {},
   "source": [
    "## Explication\n",
    "La rotation est une opération qui va tourner l'atome de 180 degrés autour d'un axe (dans notre cas le vecteur (2,1,0)). L'équation est alors ici :\n",
    "$$\\begin{bmatrix} 0 & -1 & 0 \\\\ 1 & -1 & 0 \\\\ 0 & 0 & 1\\end{bmatrix} \\begin{bmatrix} x \\\\ y \\\\ z\\end{bmatrix} = \\begin{bmatrix} -y \\\\ x-y \\\\ z \\end{bmatrix} $$"
   ]
  },
  {
   "cell_type": "code",
   "execution_count": null,
   "metadata": {},
   "outputs": [],
   "source": []
  }
 ],
 "metadata": {
  "kernelspec": {
   "display_name": "Python 3 (ipykernel)",
   "language": "python",
   "name": "python3"
  },
  "language_info": {
   "codemirror_mode": {
    "name": "ipython",
    "version": 3
   },
   "file_extension": ".py",
   "mimetype": "text/x-python",
   "name": "python",
   "nbconvert_exporter": "python",
   "pygments_lexer": "ipython3",
   "version": "3.9.13"
  }
 },
 "nbformat": 4,
 "nbformat_minor": 2
}
