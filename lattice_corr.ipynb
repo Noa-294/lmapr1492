{
 "cells": [
  {
   "cell_type": "code",
   "execution_count": 16,
   "metadata": {},
   "outputs": [
    {
     "data": {
      "application/vnd.jupyter.widget-view+json": {
       "model_id": "feb84cdb8ee44e44975b49c546ad1188",
       "version_major": 2,
       "version_minor": 0
      },
      "text/plain": [
       "Retrieving MaterialsDoc documents:   0%|          | 0/1 [00:00<?, ?it/s]"
      ]
     },
     "metadata": {},
     "output_type": "display_data"
    }
   ],
   "source": [
    "from pymatgen.ext.matproj import MPRester\n",
    "from pymatgen.symmetry.analyzer import SpacegroupAnalyzer\n",
    "from pprint import pprint\n",
    "with MPRester(\"OhzYzXS8KZ2GAhVz3g1zkqH8EJz32Y7X\") as m:\n",
    "    # Récupération de la structure du cristal KScO2\n",
    "    structure = m.get_structure_by_material_id(\"mp-8188\")"
   ]
  },
  {
   "cell_type": "code",
   "execution_count": 17,
   "metadata": {},
   "outputs": [],
   "source": [
    "lattice = structure.lattice\n",
    "analyzer = SpacegroupAnalyzer(structure)\n"
   ]
  },
  {
   "cell_type": "code",
   "execution_count": 18,
   "metadata": {},
   "outputs": [
    {
     "name": "stdout",
     "output_type": "stream",
     "text": [
      "- Vecteurs de base du réseau direct:\n",
      "a =  [ 3.11441488e+00 -1.81960000e-03  5.57355804e+00]\n",
      "b =  [1.45017671 2.75618827 5.57355804]\n",
      "c =  [-3.01601000e-03 -1.81959000e-03  6.38467912e+00] \n",
      "\n",
      "Norme des vecteurs du réseau direct:\n",
      "a =  6.384679520614815  Å\n",
      "b =  6.384679748833191  Å\n",
      "c =  6.384680091640306  Å\n",
      "\n"
     ]
    }
   ],
   "source": [
    "print(\"- Vecteurs de base du réseau direct:\")\n",
    "print(\"a = \", lattice.matrix[0])\n",
    "print(\"b = \", lattice.matrix[1])\n",
    "print(\"c = \", lattice.matrix[2],\"\\n\")\n",
    "\n",
    "print(\"Norme des vecteurs du réseau direct:\")\n",
    "print(\"a = \",lattice.a,\" Å\")\n",
    "print(\"b = \",lattice.b,\" Å\")\n",
    "print(\"c = \",lattice.c,\" Å\\n\")"
   ]
  },
  {
   "cell_type": "code",
   "execution_count": 19,
   "metadata": {},
   "outputs": [
    {
     "name": "stdout",
     "output_type": "stream",
     "text": [
      "- Vecteurs de base du réseau réciproque:\n",
      "a* =  [ 2.01567007e+00 -1.06186435e+00  6.49542956e-04]\n",
      "b* =  [1.68965988e-04 2.27826272e+00 6.49369151e-04]\n",
      "c* =  [-1.75974324 -1.06186494  0.98296964] \n",
      "\n",
      "Norme des vecteurs du réseau réciproque:\n",
      "a* =  2.2782629713827225  Å\n",
      "b* =  2.278262817047208  Å\n",
      "c* =  2.2782630931863728  Å\n",
      "\n"
     ]
    }
   ],
   "source": [
    "rec_lattice = lattice.reciprocal_lattice\n",
    "print(\"- Vecteurs de base du réseau réciproque:\")\n",
    "print(\"a* = \", rec_lattice.matrix[0])\n",
    "print(\"b* = \", rec_lattice.matrix[1])\n",
    "print(\"c* = \", rec_lattice.matrix[2],\"\\n\")\n",
    "\n",
    "print(\"Norme des vecteurs du réseau réciproque:\")\n",
    "print(\"a* = \",rec_lattice.a,\" Å\")\n",
    "print(\"b* = \",rec_lattice.b,\" Å\")\n",
    "print(\"c* = \",rec_lattice.c,\" Å\\n\")"
   ]
  },
  {
   "cell_type": "code",
   "execution_count": 20,
   "metadata": {},
   "outputs": [
    {
     "name": "stdout",
     "output_type": "stream",
     "text": [
      "- Type de maille : \n",
      " rhombohedral R \n",
      "\n",
      "- Système cristallin : \n",
      " trigonal \n",
      "\n",
      "- Groupe ponctuel : \n",
      " -3m\n"
     ]
    }
   ],
   "source": [
    "lattice_type = analyzer.get_lattice_type()\n",
    "lattice_exact_type= analyzer.get_space_group_symbol()\n",
    "print(\"- Type de maille : \\n\", lattice_type, lattice_exact_type[0], \"\\n\")\n",
    "\n",
    "\n",
    "sys_crystallin = analyzer.get_crystal_system()\n",
    "print(\"- Système cristallin : \\n\", sys_crystallin, \"\\n\")\n",
    "\n",
    "      \n",
    "groupe_ponc = analyzer.get_point_group_symbol()\n",
    "print(\"- Groupe ponctuel : \\n\", groupe_ponc)"
   ]
  },
  {
   "cell_type": "code",
   "execution_count": null,
   "metadata": {},
   "outputs": [],
   "source": []
  }
 ],
 "metadata": {
  "kernelspec": {
   "display_name": "Python 3 (ipykernel)",
   "language": "python",
   "name": "python3"
  },
  "language_info": {
   "codemirror_mode": {
    "name": "ipython",
    "version": 3
   },
   "file_extension": ".py",
   "mimetype": "text/x-python",
   "name": "python",
   "nbconvert_exporter": "python",
   "pygments_lexer": "ipython3",
   "version": "3.9.13"
  }
 },
 "nbformat": 4,
 "nbformat_minor": 2
}
